{
 "cells": [
  {
   "cell_type": "code",
   "execution_count": 1,
   "metadata": {
    "collapsed": true
   },
   "outputs": [],
   "source": [
    "import json\n",
    "import plotly.offline\n",
    "import plotly.graph_objs as go\n",
    "import pandas as pd"
   ]
  },
  {
   "cell_type": "code",
   "execution_count": 111,
   "metadata": {
    "collapsed": true
   },
   "outputs": [],
   "source": [
    "df = pd.read_json(\"data.json\")"
   ]
  },
  {
   "cell_type": "code",
   "execution_count": 101,
   "metadata": {
    "collapsed": false
   },
   "outputs": [
    {
     "data": {
      "text/html": [
       "<div>\n",
       "<table border=\"1\" class=\"dataframe\">\n",
       "  <thead>\n",
       "    <tr style=\"text-align: right;\">\n",
       "      <th></th>\n",
       "      <th>Account Name</th>\n",
       "      <th>City</th>\n",
       "      <th>Country</th>\n",
       "      <th>Date and Time</th>\n",
       "      <th>IP Address</th>\n",
       "      <th>Location</th>\n",
       "      <th>State</th>\n",
       "    </tr>\n",
       "  </thead>\n",
       "  <tbody>\n",
       "    <tr>\n",
       "      <th>0</th>\n",
       "      <td>xxxxxxxxxxxx</td>\n",
       "      <td>Benton</td>\n",
       "      <td>United States</td>\n",
       "      <td>Sunday, January 8, 2017 at 7:46:32 AM Central ...</td>\n",
       "      <td>108.64.45.187</td>\n",
       "      <td>Benton, Arkansas, United States</td>\n",
       "      <td>Arkansas</td>\n",
       "    </tr>\n",
       "    <tr>\n",
       "      <th>1</th>\n",
       "      <td>xxxxxxxxxxxx</td>\n",
       "      <td>Conway</td>\n",
       "      <td>United States</td>\n",
       "      <td>Sunday, January 8, 2017 at 2:08:42 PM Central ...</td>\n",
       "      <td>24.144.24.103</td>\n",
       "      <td>Conway, Arkansas, United States</td>\n",
       "      <td>Arkansas</td>\n",
       "    </tr>\n",
       "    <tr>\n",
       "      <th>2</th>\n",
       "      <td>xxxxxxxxxxxx</td>\n",
       "      <td>Oklahoma City</td>\n",
       "      <td>United States</td>\n",
       "      <td>Sunday, January 8, 2017 at 3:38:24 PM Central ...</td>\n",
       "      <td>166.173.62.123</td>\n",
       "      <td>Oklahoma City, Oklahoma, United States</td>\n",
       "      <td>Oklahoma</td>\n",
       "    </tr>\n",
       "    <tr>\n",
       "      <th>3</th>\n",
       "      <td>xxxxxxxxxxxx</td>\n",
       "      <td>North Bethesda</td>\n",
       "      <td>United States</td>\n",
       "      <td>Sunday, January 8, 2017 at 8:08:30 PM Central ...</td>\n",
       "      <td>73.133.196.202</td>\n",
       "      <td>North Bethesda, Maryland, United States</td>\n",
       "      <td>Maryland</td>\n",
       "    </tr>\n",
       "    <tr>\n",
       "      <th>4</th>\n",
       "      <td>xxxxxxxxxxxx</td>\n",
       "      <td>North Bethesda</td>\n",
       "      <td>United States</td>\n",
       "      <td>Sunday, January 8, 2017 at 8:08:31 PM Central ...</td>\n",
       "      <td>73.133.196.202</td>\n",
       "      <td>North Bethesda, Maryland, United States</td>\n",
       "      <td>Maryland</td>\n",
       "    </tr>\n",
       "  </tbody>\n",
       "</table>\n",
       "</div>"
      ],
      "text/plain": [
       "   Account Name            City        Country  \\\n",
       "0  xxxxxxxxxxxx          Benton  United States   \n",
       "1  xxxxxxxxxxxx          Conway  United States   \n",
       "2  xxxxxxxxxxxx   Oklahoma City  United States   \n",
       "3  xxxxxxxxxxxx  North Bethesda  United States   \n",
       "4  xxxxxxxxxxxx  North Bethesda  United States   \n",
       "\n",
       "                                       Date and Time      IP Address  \\\n",
       "0  Sunday, January 8, 2017 at 7:46:32 AM Central ...   108.64.45.187   \n",
       "1  Sunday, January 8, 2017 at 2:08:42 PM Central ...   24.144.24.103   \n",
       "2  Sunday, January 8, 2017 at 3:38:24 PM Central ...  166.173.62.123   \n",
       "3  Sunday, January 8, 2017 at 8:08:30 PM Central ...  73.133.196.202   \n",
       "4  Sunday, January 8, 2017 at 8:08:31 PM Central ...  73.133.196.202   \n",
       "\n",
       "                                  Location     State  \n",
       "0          Benton, Arkansas, United States  Arkansas  \n",
       "1          Conway, Arkansas, United States  Arkansas  \n",
       "2   Oklahoma City, Oklahoma, United States  Oklahoma  \n",
       "3  North Bethesda, Maryland, United States  Maryland  \n",
       "4  North Bethesda, Maryland, United States  Maryland  "
      ]
     },
     "execution_count": 101,
     "metadata": {},
     "output_type": "execute_result"
    }
   ],
   "source": [
    "df.head()"
   ]
  },
  {
   "cell_type": "code",
   "execution_count": 66,
   "metadata": {
    "collapsed": false
   },
   "outputs": [],
   "source": []
  },
  {
   "cell_type": "code",
   "execution_count": 67,
   "metadata": {
    "collapsed": false
   },
   "outputs": [],
   "source": [
    "import geopy\n",
    "from geopy.geocoders import Nominatim\n",
    "\n",
    "geolocator = Nominatim()\n",
    "\n",
    "location_lat = []\n",
    "location_long = []\n",
    "for x in range(0, len(df)):\n",
    "    city = df.City[x]\n",
    "    #print(city)\n",
    "    state = df.State[x]\n",
    "    #print(state)\n",
    "    country = df.Country[x]\n",
    "    #print(country)\n",
    "    location = {\"city\": city, \"state\": state, \"country\": country,}\n",
    "    location_lat.append(geolocator.geocode(location, timeout=2).latitude)\n",
    "    location_long.append(geolocator.geocode(location, timeout=2).longitude)"
   ]
  },
  {
   "cell_type": "code",
   "execution_count": 112,
   "metadata": {
    "collapsed": false
   },
   "outputs": [
    {
     "data": {
      "text/html": [
       "<div>\n",
       "<table border=\"1\" class=\"dataframe\">\n",
       "  <thead>\n",
       "    <tr style=\"text-align: right;\">\n",
       "      <th></th>\n",
       "      <th>Account Name</th>\n",
       "      <th>City</th>\n",
       "      <th>Country</th>\n",
       "      <th>Date and Time</th>\n",
       "      <th>IP Address</th>\n",
       "      <th>Location</th>\n",
       "      <th>State</th>\n",
       "      <th>Latitude</th>\n",
       "      <th>Longitude</th>\n",
       "    </tr>\n",
       "  </thead>\n",
       "  <tbody>\n",
       "    <tr>\n",
       "      <th>0</th>\n",
       "      <td>xxxxxxxxxxxx</td>\n",
       "      <td>Benton</td>\n",
       "      <td>United States</td>\n",
       "      <td>Sunday, January 8, 2017 at 7:46:32 AM Central ...</td>\n",
       "      <td>108.64.45.187</td>\n",
       "      <td>Benton, Arkansas, United States</td>\n",
       "      <td>Arkansas</td>\n",
       "      <td>34.564537</td>\n",
       "      <td>-92.586828</td>\n",
       "    </tr>\n",
       "    <tr>\n",
       "      <th>1</th>\n",
       "      <td>xxxxxxxxxxxx</td>\n",
       "      <td>Conway</td>\n",
       "      <td>United States</td>\n",
       "      <td>Sunday, January 8, 2017 at 2:08:42 PM Central ...</td>\n",
       "      <td>24.144.24.103</td>\n",
       "      <td>Conway, Arkansas, United States</td>\n",
       "      <td>Arkansas</td>\n",
       "      <td>35.088696</td>\n",
       "      <td>-92.442101</td>\n",
       "    </tr>\n",
       "    <tr>\n",
       "      <th>2</th>\n",
       "      <td>xxxxxxxxxxxx</td>\n",
       "      <td>Oklahoma City</td>\n",
       "      <td>United States</td>\n",
       "      <td>Sunday, January 8, 2017 at 3:38:24 PM Central ...</td>\n",
       "      <td>166.173.62.123</td>\n",
       "      <td>Oklahoma City, Oklahoma, United States</td>\n",
       "      <td>Oklahoma</td>\n",
       "      <td>35.472989</td>\n",
       "      <td>-97.517054</td>\n",
       "    </tr>\n",
       "    <tr>\n",
       "      <th>3</th>\n",
       "      <td>xxxxxxxxxxxx</td>\n",
       "      <td>North Bethesda</td>\n",
       "      <td>United States</td>\n",
       "      <td>Sunday, January 8, 2017 at 8:08:30 PM Central ...</td>\n",
       "      <td>73.133.196.202</td>\n",
       "      <td>North Bethesda, Maryland, United States</td>\n",
       "      <td>Maryland</td>\n",
       "      <td>39.046129</td>\n",
       "      <td>-77.113010</td>\n",
       "    </tr>\n",
       "    <tr>\n",
       "      <th>4</th>\n",
       "      <td>xxxxxxxxxxxx</td>\n",
       "      <td>North Bethesda</td>\n",
       "      <td>United States</td>\n",
       "      <td>Sunday, January 8, 2017 at 8:08:31 PM Central ...</td>\n",
       "      <td>73.133.196.202</td>\n",
       "      <td>North Bethesda, Maryland, United States</td>\n",
       "      <td>Maryland</td>\n",
       "      <td>39.046129</td>\n",
       "      <td>-77.113010</td>\n",
       "    </tr>\n",
       "  </tbody>\n",
       "</table>\n",
       "</div>"
      ],
      "text/plain": [
       "   Account Name            City        Country  \\\n",
       "0  xxxxxxxxxxxx          Benton  United States   \n",
       "1  xxxxxxxxxxxx          Conway  United States   \n",
       "2  xxxxxxxxxxxx   Oklahoma City  United States   \n",
       "3  xxxxxxxxxxxx  North Bethesda  United States   \n",
       "4  xxxxxxxxxxxx  North Bethesda  United States   \n",
       "\n",
       "                                       Date and Time      IP Address  \\\n",
       "0  Sunday, January 8, 2017 at 7:46:32 AM Central ...   108.64.45.187   \n",
       "1  Sunday, January 8, 2017 at 2:08:42 PM Central ...   24.144.24.103   \n",
       "2  Sunday, January 8, 2017 at 3:38:24 PM Central ...  166.173.62.123   \n",
       "3  Sunday, January 8, 2017 at 8:08:30 PM Central ...  73.133.196.202   \n",
       "4  Sunday, January 8, 2017 at 8:08:31 PM Central ...  73.133.196.202   \n",
       "\n",
       "                                  Location     State   Latitude  Longitude  \n",
       "0          Benton, Arkansas, United States  Arkansas  34.564537 -92.586828  \n",
       "1          Conway, Arkansas, United States  Arkansas  35.088696 -92.442101  \n",
       "2   Oklahoma City, Oklahoma, United States  Oklahoma  35.472989 -97.517054  \n",
       "3  North Bethesda, Maryland, United States  Maryland  39.046129 -77.113010  \n",
       "4  North Bethesda, Maryland, United States  Maryland  39.046129 -77.113010  "
      ]
     },
     "execution_count": 112,
     "metadata": {},
     "output_type": "execute_result"
    }
   ],
   "source": [
    "lat_series = pd.Series(location_lat, name=\"Latitude\")\n",
    "long_series = pd.Series(location_long, name=\"Longitude\")\n",
    "df = pd.concat([df, lat_series, long_series], axis=1)\n",
    "df.head()"
   ]
  },
  {
   "cell_type": "code",
   "execution_count": 113,
   "metadata": {
    "collapsed": true
   },
   "outputs": [],
   "source": [
    "df.to_json(\"data.json\", orient=\"records\")"
   ]
  },
  {
   "cell_type": "code",
   "execution_count": null,
   "metadata": {
    "collapsed": true
   },
   "outputs": [],
   "source": []
  }
 ],
 "metadata": {
  "kernelspec": {
   "display_name": "Python 3",
   "language": "python",
   "name": "python3"
  },
  "language_info": {
   "codemirror_mode": {
    "name": "ipython",
    "version": 3
   },
   "file_extension": ".py",
   "mimetype": "text/x-python",
   "name": "python",
   "nbconvert_exporter": "python",
   "pygments_lexer": "ipython3",
   "version": "3.5.3"
  }
 },
 "nbformat": 4,
 "nbformat_minor": 2
}
