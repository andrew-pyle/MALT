{
 "cells": [
  {
   "cell_type": "code",
   "execution_count": 1,
   "metadata": {
    "collapsed": true
   },
   "outputs": [],
   "source": [
    "import pandas as pd"
   ]
  },
  {
   "cell_type": "code",
   "execution_count": 12,
   "metadata": {
    "collapsed": false
   },
   "outputs": [],
   "source": [
    "df = pd.read_json('data.json')"
   ]
  },
  {
   "cell_type": "code",
   "execution_count": 13,
   "metadata": {
    "collapsed": false
   },
   "outputs": [
    {
     "data": {
      "text/plain": [
       "array([ 34.5645372,  35.0886963,  35.4729886,  39.0461292,  34.7464809,\n",
       "        34.974532 ,  38.8051095,  34.729847 ,  32.7762719,  34.065846 ,\n",
       "        33.5845582,  39.5752639,  33.6293427])"
      ]
     },
     "execution_count": 13,
     "metadata": {},
     "output_type": "execute_result"
    }
   ],
   "source": [
    "df['Latitude'].unique()"
   ]
  },
  {
   "cell_type": "code",
   "execution_count": 14,
   "metadata": {
    "collapsed": false
   },
   "outputs": [
    {
     "data": {
      "text/plain": [
       "array([ -92.5868279,  -92.442101 ,  -97.5170535,  -77.1130096,\n",
       "        -92.2895947,  -92.0165335,  -77.0470228,  -86.585901 ,\n",
       "        -96.7968558, -117.6484303,  -92.8343293,  -76.9959276,  -91.7912326])"
      ]
     },
     "execution_count": 14,
     "metadata": {},
     "output_type": "execute_result"
    }
   ],
   "source": [
    "df['Longitude'].unique()"
   ]
  },
  {
   "cell_type": "code",
   "execution_count": 24,
   "metadata": {
    "collapsed": true
   },
   "outputs": [],
   "source": [
    "latitude = 34.5 #degrees"
   ]
  },
  {
   "cell_type": "code",
   "execution_count": 25,
   "metadata": {
    "collapsed": true
   },
   "outputs": [],
   "source": [
    "longitude = -92.5 # dregres"
   ]
  },
  {
   "cell_type": "code",
   "execution_count": 26,
   "metadata": {
    "collapsed": true
   },
   "outputs": [],
   "source": [
    "radius = 10 #km"
   ]
  },
  {
   "cell_type": "code",
   "execution_count": 28,
   "metadata": {
    "collapsed": false
   },
   "outputs": [],
   "source": [
    "#Selectes rows in a dataframe within a search radius (in km) around a latitude/longitude coordinate point\n",
    "filtered_df = df[((df['Latitude']<= latitude + (radius / 111)) & (df['Latitude']>= latitude - (radius / 111)) & \\\n",
    "    ((df['Longitude']<= longitude + (radius / 111)) & (df['Longitude']>= longitude - (radius / 111))))]\n"
   ]
  },
  {
   "cell_type": "code",
   "execution_count": 29,
   "metadata": {
    "collapsed": false
   },
   "outputs": [
    {
     "data": {
      "text/html": [
       "<div>\n",
       "<table border=\"1\" class=\"dataframe\">\n",
       "  <thead>\n",
       "    <tr style=\"text-align: right;\">\n",
       "      <th></th>\n",
       "      <th>Account Name</th>\n",
       "      <th>City</th>\n",
       "      <th>Country</th>\n",
       "      <th>Date</th>\n",
       "      <th>Date and Time</th>\n",
       "      <th>Hour</th>\n",
       "      <th>IP Address</th>\n",
       "      <th>Latitude</th>\n",
       "      <th>Location</th>\n",
       "      <th>Longitude</th>\n",
       "      <th>State</th>\n",
       "      <th>Time</th>\n",
       "      <th>Time Stamp</th>\n",
       "      <th>Time Zone</th>\n",
       "    </tr>\n",
       "  </thead>\n",
       "  <tbody>\n",
       "    <tr>\n",
       "      <th>0</th>\n",
       "      <td>xxxxxxxxxxxx</td>\n",
       "      <td>Benton</td>\n",
       "      <td>United States</td>\n",
       "      <td>2017-03-23</td>\n",
       "      <td>Sunday, January 8, 2017 at 7:46:32 AM Central ...</td>\n",
       "      <td>7</td>\n",
       "      <td>108.64.45.187</td>\n",
       "      <td>34.564537</td>\n",
       "      <td>Benton, Arkansas, United States</td>\n",
       "      <td>-92.586828</td>\n",
       "      <td>Arkansas</td>\n",
       "      <td>07:46:32</td>\n",
       "      <td>1483861592000</td>\n",
       "      <td>Central Standard Time</td>\n",
       "    </tr>\n",
       "    <tr>\n",
       "      <th>1</th>\n",
       "      <td>xxxxxxxxxxxx</td>\n",
       "      <td>Benton</td>\n",
       "      <td>United States</td>\n",
       "      <td>2017-01-08</td>\n",
       "      <td>Sunday, January 8, 2017 at 7:46:32 AM Central ...</td>\n",
       "      <td>7</td>\n",
       "      <td>108.64.45.187</td>\n",
       "      <td>34.564537</td>\n",
       "      <td>Benton, Arkansas, United States</td>\n",
       "      <td>-92.586828</td>\n",
       "      <td>Arkansas</td>\n",
       "      <td>07:46:32</td>\n",
       "      <td>1483861592000</td>\n",
       "      <td>Central Standard Time</td>\n",
       "    </tr>\n",
       "  </tbody>\n",
       "</table>\n",
       "</div>"
      ],
      "text/plain": [
       "   Account Name    City        Country       Date  \\\n",
       "0  xxxxxxxxxxxx  Benton  United States 2017-03-23   \n",
       "1  xxxxxxxxxxxx  Benton  United States 2017-01-08   \n",
       "\n",
       "                                       Date and Time  Hour     IP Address  \\\n",
       "0  Sunday, January 8, 2017 at 7:46:32 AM Central ...     7  108.64.45.187   \n",
       "1  Sunday, January 8, 2017 at 7:46:32 AM Central ...     7  108.64.45.187   \n",
       "\n",
       "    Latitude                         Location  Longitude     State      Time  \\\n",
       "0  34.564537  Benton, Arkansas, United States -92.586828  Arkansas  07:46:32   \n",
       "1  34.564537  Benton, Arkansas, United States -92.586828  Arkansas  07:46:32   \n",
       "\n",
       "      Time Stamp              Time Zone  \n",
       "0  1483861592000  Central Standard Time  \n",
       "1  1483861592000  Central Standard Time  "
      ]
     },
     "execution_count": 29,
     "metadata": {},
     "output_type": "execute_result"
    }
   ],
   "source": [
    "filtered_df"
   ]
  },
  {
   "cell_type": "code",
   "execution_count": null,
   "metadata": {
    "collapsed": true
   },
   "outputs": [],
   "source": []
  }
 ],
 "metadata": {
  "kernelspec": {
   "display_name": "Python 3",
   "language": "python",
   "name": "python3"
  },
  "language_info": {
   "codemirror_mode": {
    "name": "ipython",
    "version": 3
   },
   "file_extension": ".py",
   "mimetype": "text/x-python",
   "name": "python",
   "nbconvert_exporter": "python",
   "pygments_lexer": "ipython3",
   "version": "3.5.3"
  }
 },
 "nbformat": 4,
 "nbformat_minor": 2
}
